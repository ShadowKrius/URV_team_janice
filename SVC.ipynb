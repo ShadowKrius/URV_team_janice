{
 "cells": [
  {
   "cell_type": "code",
   "execution_count": 1,
   "id": "c508f43b-b05e-4497-a071-cdb574995ed1",
   "metadata": {},
   "outputs": [],
   "source": [
    "import numpy as np\n",
    "from sklearn.decomposition import PCA\n",
    "from sklearn.svm import SVC\n",
    "from sklearn.metrics import accuracy_score, classification_report"
   ]
  },
  {
   "cell_type": "code",
   "execution_count": 2,
   "id": "27b6cafb-64ea-4747-afcd-ff6b75c27891",
   "metadata": {},
   "outputs": [],
   "source": [
    "def load_data(train_sequences_path, train_labels_path, test_sequences_path, test_labels_path):\n",
    "    train_sequences = np.load(train_sequences_path)\n",
    "    train_labels = np.load(train_labels_path)\n",
    "    test_sequences = np.load(test_sequences_path)\n",
    "    test_labels = np.load(test_labels_path)\n",
    "    return train_sequences, train_labels, test_sequences, test_labels"
   ]
  },
  {
   "cell_type": "code",
   "execution_count": 3,
   "id": "e6d3bb9f-fb18-443b-a29e-a94d0dc9b3c2",
   "metadata": {},
   "outputs": [],
   "source": [
    "def apply_pca(train_sequences, test_sequences, n_components=4):\n",
    "    pca = PCA(n_components=n_components)\n",
    "    train_sequences = pca.fit_transform(train_sequences)\n",
    "    test_sequences = pca.transform(test_sequences)\n",
    "    return train_sequences, test_sequences"
   ]
  },
  {
   "cell_type": "code",
   "execution_count": 4,
   "id": "b22d286c-c0bc-4e4f-b97c-3009458f53b7",
   "metadata": {},
   "outputs": [],
   "source": [
    "def split_data(data, num_splits):\n",
    "    return np.array_split(data, num_splits)"
   ]
  },
  {
   "cell_type": "code",
   "execution_count": 5,
   "id": "212d8062-922a-45a8-a9c4-4bf1f8b51851",
   "metadata": {},
   "outputs": [],
   "source": [
    "def train_and_predict_svc(train_sequences, train_labels, test_sequences, test_labels):\n",
    "    svc = SVC()\n",
    "    \n",
    "    # Train the SVC on the training data\n",
    "    svc.fit(train_sequences, train_labels)\n",
    "    \n",
    "    # Predict on the test data\n",
    "    predictions = svc.predict(test_sequences)\n",
    "    \n",
    "    return predictions"
   ]
  },
  {
   "cell_type": "code",
   "execution_count": 6,
   "id": "6914ddae-1e5f-4574-ae82-deb6d45aedae",
   "metadata": {},
   "outputs": [
    {
     "name": "stdout",
     "output_type": "stream",
     "text": [
      "Accuracy: 0.76668\n",
      "Classification report:\n",
      "              precision    recall  f1-score   support\n",
      "\n",
      "           0       0.84      0.66      0.74     12500\n",
      "           1       0.72      0.88      0.79     12500\n",
      "\n",
      "    accuracy                           0.77     25000\n",
      "   macro avg       0.78      0.77      0.76     25000\n",
      "weighted avg       0.78      0.77      0.76     25000\n",
      "\n"
     ]
    }
   ],
   "source": [
    "# Load the preprocessed data\n",
    "train_sequences, train_labels, test_sequences, test_labels = load_data(\n",
    "    'train_sequences.npy', 'train_labels.npy', 'test_sequences.npy', 'test_labels.npy'\n",
    ")\n",
    "\n",
    "# Perform PCA transformation on the data\n",
    "train_sequences, test_sequences = apply_pca(train_sequences, test_sequences, n_components=4)\n",
    "\n",
    "# Split the data into 15 parts\n",
    "num_splits = 15\n",
    "split_train_sequences = split_data(train_sequences, num_splits)\n",
    "split_train_labels = split_data(train_labels, num_splits)\n",
    "split_test_sequences = split_data(test_sequences, num_splits)\n",
    "split_test_labels = split_data(test_labels, num_splits)\n",
    "\n",
    "# Collect all predictions and true labels\n",
    "all_predictions = []\n",
    "all_true_labels = []\n",
    "\n",
    "for i in range(num_splits):\n",
    "    train_seq_part = split_train_sequences[i]\n",
    "    train_lbl_part = split_train_labels[i]\n",
    "    test_seq_part = split_test_sequences[i]\n",
    "    test_lbl_part = split_test_labels[i]\n",
    "    \n",
    "    predictions = train_and_predict_svc(train_seq_part, train_lbl_part, test_seq_part, test_lbl_part)\n",
    "    \n",
    "    all_predictions.extend(predictions)\n",
    "    all_true_labels.extend(test_lbl_part)\n",
    "\n",
    "# Generate the classification report\n",
    "accuracy = accuracy_score(all_true_labels, all_predictions)\n",
    "report = classification_report(all_true_labels, all_predictions)\n",
    "\n",
    "# Print the accuracy and classification report\n",
    "print(f'Accuracy: {accuracy}')\n",
    "print(f'Classification report:\\n{report}')"
   ]
  }
 ],
 "metadata": {
  "kernelspec": {
   "display_name": "Python 3 (ipykernel)",
   "language": "python",
   "name": "python3"
  },
  "language_info": {
   "codemirror_mode": {
    "name": "ipython",
    "version": 3
   },
   "file_extension": ".py",
   "mimetype": "text/x-python",
   "name": "python",
   "nbconvert_exporter": "python",
   "pygments_lexer": "ipython3",
   "version": "3.11.7"
  }
 },
 "nbformat": 4,
 "nbformat_minor": 5
}
